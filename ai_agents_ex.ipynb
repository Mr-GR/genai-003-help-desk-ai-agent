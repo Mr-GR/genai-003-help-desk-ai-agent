{
 "cells": [
  {
   "cell_type": "markdown",
   "id": "8af43d9e-3258-4aa8-9c0a-162998b2fbe3",
   "metadata": {},
   "source": [
    "- Reactive Chatbot\n",
    "\t- Advantages:\n",
    "\t\t- Quick to answer \n",
    "\t\t- simple queries\n",
    "\t\t- Core functionality is If statement \n",
    "\t- Disadvantages:\n",
    "\t\t- limited complexity \n",
    "\t\t- Does not store memory/state\n",
    "\t\t- Does not learn from the conversation"
   ]
  },
  {
   "cell_type": "code",
   "execution_count": null,
   "id": "52e6f334-dc9c-4ec5-a24d-5bec4747e098",
   "metadata": {},
   "outputs": [],
   "source": [
    "def reactive_chatbot(user_input):\n",
    "    if \"hello\" in user_input.lower():\n",
    "        return \"Hello how can I help you?\"\n",
    "    elif \"price\" in user_input.lower():\n",
    "        return \"Our prices start at $10. Let me know if you need more details!\"\n",
    "    elif \"bye\" in user_input.lower():\n",
    "        return \"Goodbye! Have a great day!\"\n",
    "    else:\n",
    "        return \"I'm here to help with any questions you have\"\n",
    "\n",
    "\n",
    "print(reactive_chatbot(\"Hello\"))\n",
    "print(reactive_chatbot(\"Can you tell me the price?\"))\n",
    "print(reactive_chatbot(\"Thanks bye!\"))"
   ]
  },
  {
   "cell_type": "markdown",
   "id": "0869531d",
   "metadata": {},
   "source": [
    "Rule-based Chatbot \n",
    "\t- Advantages:\n",
    "\t\t- Simplicity: rule-based systems are easy to design, implement, and understand. They don't require complex algorithms or learning, making them accessible for a wide range of applications.  \n",
    "\t\t- Predictability: The behavior of a rule-based system is entirely determined by its rules, making it easy to predict how it will response to different inputs. \n",
    "\t\t- Speed: Because the rule-based systems don't perform data processing or learning they can response quickly, making them ideal for applications that require immediate actions. \n",
    "\t- Disadvantages: \n",
    "\t\t- Limited flexibility: Rule-bases systems can only handle scenarios that match predefined rules. They struggle with complex or unanticipated inputs and cannot adapt to new situations. \n",
    "\t\t- Rule explosion: As the number of conditions increases, the rule base can become large and difficult to manage. This rule explosion makes it challenging to maintain and update the system. \n",
    "\t\t- Lack of learning: Rule-based systems cannot improve over time or learn from past interactions, making them unsuitable for dynamic environments or task that require adaptability. "
   ]
  },
  {
   "cell_type": "code",
   "execution_count": null,
   "id": "1f57e650",
   "metadata": {},
   "outputs": [],
   "source": [
    "#Define the rules as conditions and reponses\n",
    "rules = {\n",
    "    \"hello\": \"Hello! How can I help you?\",\n",
    "    \"prices\": \"Our prices start at $10. Let me know if you need more details!\",\n",
    "    \"bye\": \"Goodbye! Have a great day!\"\n",
    "\n",
    "}\n",
    "\n",
    "def rule_based_chatbot(user_input):\n",
    "    # check each rule to find a matching reponse \n",
    "\n",
    "    for keyword, reponse in rules.items():\n",
    "        if keyword in user_input.lower():\n",
    "            return reponse\n",
    "        \n",
    "    return \"I'm here to help with any questions you have.\"\n",
    "\n",
    "print(f\"Your reponse: Hello there?\\nAgent Reponse: {rule_based_chatbot(\"Hello there!\")}\")\n",
    "print(rule_based_chatbot(\"Can you tell me the price?\"))\n",
    "print(rule_based_chatbot(\"Thanks bye!\"))\n",
    "print(rule_based_chatbot(\"What's your policy?\"))"
   ]
  }
 ],
 "metadata": {
  "kernelspec": {
   "display_name": "Python 3 (ipykernel)",
   "language": "python",
   "name": "python3"
  },
  "language_info": {
   "codemirror_mode": {
    "name": "ipython",
    "version": 3
   },
   "file_extension": ".py",
   "mimetype": "text/x-python",
   "name": "python",
   "nbconvert_exporter": "python",
   "pygments_lexer": "ipython3",
   "version": "3.12.8"
  }
 },
 "nbformat": 4,
 "nbformat_minor": 5
}
